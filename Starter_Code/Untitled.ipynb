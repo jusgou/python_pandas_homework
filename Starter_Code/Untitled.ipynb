{
 "cells": [
  {
   "cell_type": "code",
   "execution_count": 2,
   "id": "growing-economy",
   "metadata": {},
   "outputs": [],
   "source": [
    "import yfinance as yf\n",
    "import pandas as pd\n",
    "import matplotlib.pyplot as plt\n",
    "%matplotlib inline"
   ]
  },
  {
   "cell_type": "code",
   "execution_count": 17,
   "id": "speaking-ceramic",
   "metadata": {},
   "outputs": [
    {
     "name": "stdout",
     "output_type": "stream",
     "text": [
      "[*********************100%***********************]  1 of 1 completed\n"
     ]
    }
   ],
   "source": [
    "aabb = yf.download(\"AABB\", \"2020-01-01\", \"2021-03-02\")"
   ]
  },
  {
   "cell_type": "code",
   "execution_count": 18,
   "id": "designing-strength",
   "metadata": {},
   "outputs": [
    {
     "data": {
      "text/html": [
       "<div>\n",
       "<style scoped>\n",
       "    .dataframe tbody tr th:only-of-type {\n",
       "        vertical-align: middle;\n",
       "    }\n",
       "\n",
       "    .dataframe tbody tr th {\n",
       "        vertical-align: top;\n",
       "    }\n",
       "\n",
       "    .dataframe thead th {\n",
       "        text-align: right;\n",
       "    }\n",
       "</style>\n",
       "<table border=\"1\" class=\"dataframe\">\n",
       "  <thead>\n",
       "    <tr style=\"text-align: right;\">\n",
       "      <th></th>\n",
       "      <th>Open</th>\n",
       "      <th>High</th>\n",
       "      <th>Low</th>\n",
       "      <th>Close</th>\n",
       "      <th>Adj Close</th>\n",
       "      <th>Volume</th>\n",
       "    </tr>\n",
       "    <tr>\n",
       "      <th>Date</th>\n",
       "      <th></th>\n",
       "      <th></th>\n",
       "      <th></th>\n",
       "      <th></th>\n",
       "      <th></th>\n",
       "      <th></th>\n",
       "    </tr>\n",
       "  </thead>\n",
       "  <tbody>\n",
       "    <tr>\n",
       "      <th>2021-02-01</th>\n",
       "      <td>0.01740</td>\n",
       "      <td>0.0189</td>\n",
       "      <td>0.0167</td>\n",
       "      <td>0.01700</td>\n",
       "      <td>0.01700</td>\n",
       "      <td>26108792</td>\n",
       "    </tr>\n",
       "    <tr>\n",
       "      <th>2021-02-02</th>\n",
       "      <td>0.01800</td>\n",
       "      <td>0.0185</td>\n",
       "      <td>0.0160</td>\n",
       "      <td>0.01670</td>\n",
       "      <td>0.01670</td>\n",
       "      <td>21203732</td>\n",
       "    </tr>\n",
       "    <tr>\n",
       "      <th>2021-02-03</th>\n",
       "      <td>0.01700</td>\n",
       "      <td>0.0170</td>\n",
       "      <td>0.0135</td>\n",
       "      <td>0.01580</td>\n",
       "      <td>0.01580</td>\n",
       "      <td>53447515</td>\n",
       "    </tr>\n",
       "    <tr>\n",
       "      <th>2021-02-04</th>\n",
       "      <td>0.01690</td>\n",
       "      <td>0.0169</td>\n",
       "      <td>0.0148</td>\n",
       "      <td>0.01590</td>\n",
       "      <td>0.01590</td>\n",
       "      <td>36572785</td>\n",
       "    </tr>\n",
       "    <tr>\n",
       "      <th>2021-02-05</th>\n",
       "      <td>0.01820</td>\n",
       "      <td>0.0182</td>\n",
       "      <td>0.0160</td>\n",
       "      <td>0.01750</td>\n",
       "      <td>0.01750</td>\n",
       "      <td>29831631</td>\n",
       "    </tr>\n",
       "    <tr>\n",
       "      <th>2021-02-08</th>\n",
       "      <td>0.01840</td>\n",
       "      <td>0.0223</td>\n",
       "      <td>0.0180</td>\n",
       "      <td>0.02195</td>\n",
       "      <td>0.02195</td>\n",
       "      <td>75080140</td>\n",
       "    </tr>\n",
       "    <tr>\n",
       "      <th>2021-02-09</th>\n",
       "      <td>0.02500</td>\n",
       "      <td>0.0350</td>\n",
       "      <td>0.0210</td>\n",
       "      <td>0.03090</td>\n",
       "      <td>0.03090</td>\n",
       "      <td>132847843</td>\n",
       "    </tr>\n",
       "    <tr>\n",
       "      <th>2021-02-10</th>\n",
       "      <td>0.03713</td>\n",
       "      <td>0.0500</td>\n",
       "      <td>0.0309</td>\n",
       "      <td>0.05000</td>\n",
       "      <td>0.05000</td>\n",
       "      <td>125932974</td>\n",
       "    </tr>\n",
       "    <tr>\n",
       "      <th>2021-02-11</th>\n",
       "      <td>0.04750</td>\n",
       "      <td>0.0620</td>\n",
       "      <td>0.0400</td>\n",
       "      <td>0.05000</td>\n",
       "      <td>0.05000</td>\n",
       "      <td>90843140</td>\n",
       "    </tr>\n",
       "    <tr>\n",
       "      <th>2021-02-12</th>\n",
       "      <td>0.05590</td>\n",
       "      <td>0.0560</td>\n",
       "      <td>0.0436</td>\n",
       "      <td>0.05100</td>\n",
       "      <td>0.05100</td>\n",
       "      <td>46712885</td>\n",
       "    </tr>\n",
       "    <tr>\n",
       "      <th>2021-02-16</th>\n",
       "      <td>0.06900</td>\n",
       "      <td>0.2340</td>\n",
       "      <td>0.0680</td>\n",
       "      <td>0.21230</td>\n",
       "      <td>0.21230</td>\n",
       "      <td>331426914</td>\n",
       "    </tr>\n",
       "    <tr>\n",
       "      <th>2021-02-17</th>\n",
       "      <td>0.24500</td>\n",
       "      <td>0.3960</td>\n",
       "      <td>0.2301</td>\n",
       "      <td>0.30000</td>\n",
       "      <td>0.30000</td>\n",
       "      <td>286827770</td>\n",
       "    </tr>\n",
       "    <tr>\n",
       "      <th>2021-02-18</th>\n",
       "      <td>0.34000</td>\n",
       "      <td>0.3700</td>\n",
       "      <td>0.2501</td>\n",
       "      <td>0.30110</td>\n",
       "      <td>0.30110</td>\n",
       "      <td>159827185</td>\n",
       "    </tr>\n",
       "    <tr>\n",
       "      <th>2021-02-19</th>\n",
       "      <td>0.32000</td>\n",
       "      <td>0.3450</td>\n",
       "      <td>0.2810</td>\n",
       "      <td>0.31400</td>\n",
       "      <td>0.31400</td>\n",
       "      <td>102256046</td>\n",
       "    </tr>\n",
       "    <tr>\n",
       "      <th>2021-02-22</th>\n",
       "      <td>0.34600</td>\n",
       "      <td>0.6590</td>\n",
       "      <td>0.3200</td>\n",
       "      <td>0.54480</td>\n",
       "      <td>0.54480</td>\n",
       "      <td>229767869</td>\n",
       "    </tr>\n",
       "    <tr>\n",
       "      <th>2021-02-23</th>\n",
       "      <td>0.46155</td>\n",
       "      <td>0.4900</td>\n",
       "      <td>0.3100</td>\n",
       "      <td>0.41250</td>\n",
       "      <td>0.41250</td>\n",
       "      <td>177087328</td>\n",
       "    </tr>\n",
       "    <tr>\n",
       "      <th>2021-02-24</th>\n",
       "      <td>0.49900</td>\n",
       "      <td>0.4991</td>\n",
       "      <td>0.2110</td>\n",
       "      <td>0.27010</td>\n",
       "      <td>0.27010</td>\n",
       "      <td>337495454</td>\n",
       "    </tr>\n",
       "    <tr>\n",
       "      <th>2021-02-25</th>\n",
       "      <td>0.29900</td>\n",
       "      <td>0.3100</td>\n",
       "      <td>0.1950</td>\n",
       "      <td>0.20000</td>\n",
       "      <td>0.20000</td>\n",
       "      <td>230436948</td>\n",
       "    </tr>\n",
       "    <tr>\n",
       "      <th>2021-02-26</th>\n",
       "      <td>0.22010</td>\n",
       "      <td>0.2800</td>\n",
       "      <td>0.2050</td>\n",
       "      <td>0.23900</td>\n",
       "      <td>0.23900</td>\n",
       "      <td>126946609</td>\n",
       "    </tr>\n",
       "    <tr>\n",
       "      <th>2021-03-01</th>\n",
       "      <td>0.29105</td>\n",
       "      <td>0.2911</td>\n",
       "      <td>0.2405</td>\n",
       "      <td>0.24100</td>\n",
       "      <td>0.24100</td>\n",
       "      <td>78234635</td>\n",
       "    </tr>\n",
       "  </tbody>\n",
       "</table>\n",
       "</div>"
      ],
      "text/plain": [
       "               Open    High     Low    Close  Adj Close     Volume\n",
       "Date                                                              \n",
       "2021-02-01  0.01740  0.0189  0.0167  0.01700    0.01700   26108792\n",
       "2021-02-02  0.01800  0.0185  0.0160  0.01670    0.01670   21203732\n",
       "2021-02-03  0.01700  0.0170  0.0135  0.01580    0.01580   53447515\n",
       "2021-02-04  0.01690  0.0169  0.0148  0.01590    0.01590   36572785\n",
       "2021-02-05  0.01820  0.0182  0.0160  0.01750    0.01750   29831631\n",
       "2021-02-08  0.01840  0.0223  0.0180  0.02195    0.02195   75080140\n",
       "2021-02-09  0.02500  0.0350  0.0210  0.03090    0.03090  132847843\n",
       "2021-02-10  0.03713  0.0500  0.0309  0.05000    0.05000  125932974\n",
       "2021-02-11  0.04750  0.0620  0.0400  0.05000    0.05000   90843140\n",
       "2021-02-12  0.05590  0.0560  0.0436  0.05100    0.05100   46712885\n",
       "2021-02-16  0.06900  0.2340  0.0680  0.21230    0.21230  331426914\n",
       "2021-02-17  0.24500  0.3960  0.2301  0.30000    0.30000  286827770\n",
       "2021-02-18  0.34000  0.3700  0.2501  0.30110    0.30110  159827185\n",
       "2021-02-19  0.32000  0.3450  0.2810  0.31400    0.31400  102256046\n",
       "2021-02-22  0.34600  0.6590  0.3200  0.54480    0.54480  229767869\n",
       "2021-02-23  0.46155  0.4900  0.3100  0.41250    0.41250  177087328\n",
       "2021-02-24  0.49900  0.4991  0.2110  0.27010    0.27010  337495454\n",
       "2021-02-25  0.29900  0.3100  0.1950  0.20000    0.20000  230436948\n",
       "2021-02-26  0.22010  0.2800  0.2050  0.23900    0.23900  126946609\n",
       "2021-03-01  0.29105  0.2911  0.2405  0.24100    0.24100   78234635"
      ]
     },
     "execution_count": 18,
     "metadata": {},
     "output_type": "execute_result"
    }
   ],
   "source": [
    "aabb.tail(20)"
   ]
  },
  {
   "cell_type": "code",
   "execution_count": 19,
   "id": "ordinary-double",
   "metadata": {},
   "outputs": [
    {
     "data": {
      "text/plain": [
       "[<matplotlib.lines.Line2D at 0x172c977dfc8>]"
      ]
     },
     "execution_count": 19,
     "metadata": {},
     "output_type": "execute_result"
    },
    {
     "data": {
      "image/png": "[encoded data removed]",
      "text/plain": [
       "<Figure size 720x720 with 1 Axes>"
      ]
     },
     "metadata": {
      "needs_background": "light"
     },
     "output_type": "display_data"
    }
   ],
   "source": [
    "plt.figure(figsize=(10,10))\n",
    "plt.plot(aabb.Close)"
   ]
  },
  {
   "cell_type": "raw",
   "id": "subtle-bride",
   "metadata": {},
   "source": []
  },
  {
   "cell_type": "markdown",
   "id": "affecting-clerk",
   "metadata": {},
   "source": [
    "## import pandas_datareader as dr"
   ]
  },
  {
   "cell_type": "code",
   "execution_count": 30,
   "id": "english-suggestion",
   "metadata": {},
   "outputs": [
    {
     "data": {
      "text/html": [
       "<div>\n",
       "<style scoped>\n",
       "    .dataframe tbody tr th:only-of-type {\n",
       "        vertical-align: middle;\n",
       "    }\n",
       "\n",
       "    .dataframe tbody tr th {\n",
       "        vertical-align: top;\n",
       "    }\n",
       "\n",
       "    .dataframe thead th {\n",
       "        text-align: right;\n",
       "    }\n",
       "</style>\n",
       "<table border=\"1\" class=\"dataframe\">\n",
       "  <thead>\n",
       "    <tr style=\"text-align: right;\">\n",
       "      <th></th>\n",
       "      <th>High</th>\n",
       "      <th>Low</th>\n",
       "      <th>Open</th>\n",
       "      <th>Close</th>\n",
       "      <th>Volume</th>\n",
       "      <th>Adj Close</th>\n",
       "    </tr>\n",
       "    <tr>\n",
       "      <th>Date</th>\n",
       "      <th></th>\n",
       "      <th></th>\n",
       "      <th></th>\n",
       "      <th></th>\n",
       "      <th></th>\n",
       "      <th></th>\n",
       "    </tr>\n",
       "  </thead>\n",
       "  <tbody>\n",
       "    <tr>\n",
       "      <th>2020-01-02</th>\n",
       "      <td>0.0038</td>\n",
       "      <td>0.0033</td>\n",
       "      <td>0.00380</td>\n",
       "      <td>0.0037</td>\n",
       "      <td>558799</td>\n",
       "      <td>0.0037</td>\n",
       "    </tr>\n",
       "    <tr>\n",
       "      <th>2020-01-03</th>\n",
       "      <td>0.0036</td>\n",
       "      <td>0.0029</td>\n",
       "      <td>0.00360</td>\n",
       "      <td>0.0033</td>\n",
       "      <td>5205954</td>\n",
       "      <td>0.0033</td>\n",
       "    </tr>\n",
       "    <tr>\n",
       "      <th>2020-01-06</th>\n",
       "      <td>0.0034</td>\n",
       "      <td>0.0031</td>\n",
       "      <td>0.00310</td>\n",
       "      <td>0.0031</td>\n",
       "      <td>581785</td>\n",
       "      <td>0.0031</td>\n",
       "    </tr>\n",
       "    <tr>\n",
       "      <th>2020-01-07</th>\n",
       "      <td>0.0034</td>\n",
       "      <td>0.0031</td>\n",
       "      <td>0.00340</td>\n",
       "      <td>0.0034</td>\n",
       "      <td>979277</td>\n",
       "      <td>0.0034</td>\n",
       "    </tr>\n",
       "    <tr>\n",
       "      <th>2020-01-08</th>\n",
       "      <td>0.0034</td>\n",
       "      <td>0.0032</td>\n",
       "      <td>0.00340</td>\n",
       "      <td>0.0032</td>\n",
       "      <td>633593</td>\n",
       "      <td>0.0032</td>\n",
       "    </tr>\n",
       "    <tr>\n",
       "      <th>...</th>\n",
       "      <td>...</td>\n",
       "      <td>...</td>\n",
       "      <td>...</td>\n",
       "      <td>...</td>\n",
       "      <td>...</td>\n",
       "      <td>...</td>\n",
       "    </tr>\n",
       "    <tr>\n",
       "      <th>2021-02-24</th>\n",
       "      <td>0.4991</td>\n",
       "      <td>0.2110</td>\n",
       "      <td>0.49900</td>\n",
       "      <td>0.2701</td>\n",
       "      <td>337495454</td>\n",
       "      <td>0.2701</td>\n",
       "    </tr>\n",
       "    <tr>\n",
       "      <th>2021-02-25</th>\n",
       "      <td>0.3100</td>\n",
       "      <td>0.1950</td>\n",
       "      <td>0.29900</td>\n",
       "      <td>0.2000</td>\n",
       "      <td>230436948</td>\n",
       "      <td>0.2000</td>\n",
       "    </tr>\n",
       "    <tr>\n",
       "      <th>2021-02-26</th>\n",
       "      <td>0.2800</td>\n",
       "      <td>0.2050</td>\n",
       "      <td>0.22010</td>\n",
       "      <td>0.2390</td>\n",
       "      <td>126946609</td>\n",
       "      <td>0.2390</td>\n",
       "    </tr>\n",
       "    <tr>\n",
       "      <th>2021-03-01</th>\n",
       "      <td>0.2911</td>\n",
       "      <td>0.2405</td>\n",
       "      <td>0.29105</td>\n",
       "      <td>0.2410</td>\n",
       "      <td>78234635</td>\n",
       "      <td>0.2410</td>\n",
       "    </tr>\n",
       "    <tr>\n",
       "      <th>2021-03-02</th>\n",
       "      <td>0.2529</td>\n",
       "      <td>0.1990</td>\n",
       "      <td>0.25100</td>\n",
       "      <td>0.2150</td>\n",
       "      <td>74604952</td>\n",
       "      <td>0.2150</td>\n",
       "    </tr>\n",
       "  </tbody>\n",
       "</table>\n",
       "<p>293 rows × 6 columns</p>\n",
       "</div>"
      ],
      "text/plain": [
       "              High     Low     Open   Close     Volume  Adj Close\n",
       "Date                                                             \n",
       "2020-01-02  0.0038  0.0033  0.00380  0.0037     558799     0.0037\n",
       "2020-01-03  0.0036  0.0029  0.00360  0.0033    5205954     0.0033\n",
       "2020-01-06  0.0034  0.0031  0.00310  0.0031     581785     0.0031\n",
       "2020-01-07  0.0034  0.0031  0.00340  0.0034     979277     0.0034\n",
       "2020-01-08  0.0034  0.0032  0.00340  0.0032     633593     0.0032\n",
       "...            ...     ...      ...     ...        ...        ...\n",
       "2021-02-24  0.4991  0.2110  0.49900  0.2701  337495454     0.2701\n",
       "2021-02-25  0.3100  0.1950  0.29900  0.2000  230436948     0.2000\n",
       "2021-02-26  0.2800  0.2050  0.22010  0.2390  126946609     0.2390\n",
       "2021-03-01  0.2911  0.2405  0.29105  0.2410   78234635     0.2410\n",
       "2021-03-02  0.2529  0.1990  0.25100  0.2150   74604952     0.2150\n",
       "\n",
       "[293 rows x 6 columns]"
      ]
     },
     "execution_count": 30,
     "metadata": {},
     "output_type": "execute_result"
    }
   ],
   "source": [
    "df = dr.data.get_data_yahoo(\"AABB\", start=\"2020-01-01\", end=\"2021-03-02\")\n",
    "df"
   ]
  },
  {
   "cell_type": "code",
   "execution_count": 29,
   "id": "racial-membrane",
   "metadata": {},
   "outputs": [
    {
     "data": {
      "text/plain": [
       "<AxesSubplot:xlabel='Date'>"
      ]
     },
     "execution_count": 29,
     "metadata": {},
     "output_type": "execute_result"
    },
    {
     "data": {
      "image/png": "[encoded data removed]",
      "text/plain": [
       "<Figure size 1080x360 with 1 Axes>"
      ]
     },
     "metadata": {
      "needs_background": "light"
     },
     "output_type": "display_data"
    }
   ],
   "source": [
    "df['Close'].plot(figsize=(15,5))"
   ]
  },
  {
   "cell_type": "code",
   "execution_count": 32,
   "id": "instant-merchandise",
   "metadata": {},
   "outputs": [
    {
     "data": {
      "text/plain": [
       "<AxesSubplot:xlabel='Date'>"
      ]
     },
     "execution_count": 32,
     "metadata": {},
     "output_type": "execute_result"
    },
    {
     "data": {
      "image/png": "[encoded data removed]",
      "text/plain": [
       "<Figure size 1080x360 with 1 Axes>"
      ]
     },
     "metadata": {
      "needs_background": "light"
     },
     "output_type": "display_data"
    }
   ],
   "source": [
    "df.loc[\"2020-12-30\":\"2021-02-28\",[\"Open\", \"Close\"]].plot(figsize=(15,5))"
   ]
  },
  {
   "cell_type": "code",
   "execution_count": 22,
   "id": "decimal-reynolds",
   "metadata": {},
   "outputs": [
    {
     "ename": "NameError",
     "evalue": "name 'data' is not defined",
     "output_type": "error",
     "traceback": [
      "\u001b[1;31m---------------------------------------------------------------------------\u001b[0m",
      "\u001b[1;31mNameError\u001b[0m                                 Traceback (most recent call last)",
      "\u001b[1;32m<ipython-input-22-8b05df908a2e>\u001b[0m in \u001b[0;36m<module>\u001b[1;34m\u001b[0m\n\u001b[1;32m----> 1\u001b[1;33m \u001b[0mpanel_data\u001b[0m \u001b[1;33m=\u001b[0m \u001b[0mdata\u001b[0m\u001b[1;33m.\u001b[0m\u001b[0mDataReader\u001b[0m\u001b[1;33m(\u001b[0m\u001b[1;34m'INPX'\u001b[0m\u001b[1;33m,\u001b[0m \u001b[1;34m'google'\u001b[0m\u001b[1;33m,\u001b[0m \u001b[0mstart_date\u001b[0m\u001b[1;33m,\u001b[0m \u001b[0mend_date\u001b[0m\u001b[1;33m)\u001b[0m\u001b[1;33m\u001b[0m\u001b[1;33m\u001b[0m\u001b[0m\n\u001b[0m",
      "\u001b[1;31mNameError\u001b[0m: name 'data' is not defined"
     ]
    }
   ],
   "source": []
  },
  {
   "cell_type": "code",
   "execution_count": null,
   "id": "loose-breeding",
   "metadata": {},
   "outputs": [],
   "source": []
  },
  {
   "cell_type": "code",
   "execution_count": null,
   "id": "fresh-desktop",
   "metadata": {},
   "outputs": [],
   "source": []
  },
  {
   "cell_type": "code",
   "execution_count": null,
   "id": "dying-confidence",
   "metadata": {},
   "outputs": [],
   "source": []
  },
  {
   "cell_type": "code",
   "execution_count": null,
   "id": "greenhouse-tribute",
   "metadata": {},
   "outputs": [],
   "source": []
  },
  {
   "cell_type": "code",
   "execution_count": null,
   "id": "fantastic-domain",
   "metadata": {},
   "outputs": [],
   "source": []
  },
  {
   "cell_type": "code",
   "execution_count": null,
   "id": "administrative-african",
   "metadata": {},
   "outputs": [],
   "source": []
  },
  {
   "cell_type": "code",
   "execution_count": null,
   "id": "executed-supply",
   "metadata": {},
   "outputs": [],
   "source": []
  },
  {
   "cell_type": "code",
   "execution_count": null,
   "id": "bored-reform",
   "metadata": {},
   "outputs": [],
   "source": []
  },
  {
   "cell_type": "code",
   "execution_count": null,
   "id": "radical-hybrid",
   "metadata": {},
   "outputs": [],
   "source": []
  },
  {
   "cell_type": "code",
   "execution_count": null,
   "id": "favorite-pilot",
   "metadata": {},
   "outputs": [],
   "source": []
  }
 ],
 "metadata": {
  "kernelspec": {
   "display_name": "Python 3",
   "language": "python",
   "name": "python3"
  },
  "language_info": {
   "codemirror_mode": {
    "name": "ipython",
    "version": 3
   },
   "file_extension": ".py",
   "mimetype": "text/x-python",
   "name": "python",
   "nbconvert_exporter": "python",
   "pygments_lexer": "ipython3",
   "version": "3.7.9"
  }
 },
 "nbformat": 4,
 "nbformat_minor": 5
}
